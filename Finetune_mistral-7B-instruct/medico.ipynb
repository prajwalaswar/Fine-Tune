{
  "nbformat": 4,
  "nbformat_minor": 0,
  "metadata": {
    "colab": {
      "provenance": []
    },
    "kernelspec": {
      "name": "python3",
      "display_name": "Python 3"
    },
    "language_info": {
      "name": "python"
    }
  },
  "cells": [
    {
      "cell_type": "code",
      "source": [
        "!pip install transformers datasets peft accelerate bitsandbytes -q"
      ],
      "metadata": {
        "id": "EIC3RmI5Q7Ot"
      },
      "execution_count": null,
      "outputs": []
    },
    {
      "cell_type": "code",
      "source": [
        "import torch\n",
        "from datasets import load_dataset\n",
        "from transformers import AutoModelForCausalLM, AutoTokenizer, TrainingArguments, Trainer\n",
        "from peft import LoraConfig, get_peft_model, prepare_model_for_kbit_training"
      ],
      "metadata": {
        "id": "E7Q7Db6xQ7LG"
      },
      "execution_count": null,
      "outputs": []
    },
    {
      "cell_type": "code",
      "source": [
        "!pip install --upgrade datasets fsspec"
      ],
      "metadata": {
        "id": "dibHsWYRQ7JB"
      },
      "execution_count": null,
      "outputs": []
    },
    {
      "cell_type": "code",
      "source": [
        "from datasets import load_dataset, DownloadConfig\n",
        "\n",
        "dataset = load_dataset(\n",
        "    \"medalpaca/medical_meadow_mediqa\",\n",
        "    split=\"train\",\n",
        "    cache_dir=\"./cache\",\n",
        "\n",
        "    token=True\n",
        ")\n",
        "\n",
        "MODEL_NAME = \"mistralai/Mistral-7B-Instruct-v0.1\"\n",
        "tokenizer = AutoTokenizer.from_pretrained(MODEL_NAME)\n",
        "\n",
        "\n",
        "tokenizer.pad_token = tokenizer.eos_token\n",
        "\n",
        "def tokenize_function(example):\n",
        "    text = f\"Instruction: {example['instruction']}\\nResponse: {example['output']}\"\n",
        "    encodings = tokenizer(text, padding=\"max_length\", truncation=True, max_length=512, return_tensors='pt')\n",
        "    encodings['attention_mask'] = encodings['attention_mask'].unsqueeze(0)\n",
        "    return encodings\n",
        "\n",
        "tokenized_dataset = dataset.map(tokenize_function, batched=True, remove_columns=dataset.column_names)\n",
        "\n",
        "tokenized_dataset.set_format(\"torch\")"
      ],
      "metadata": {
        "id": "C9pULOIcQ7HD"
      },
      "execution_count": null,
      "outputs": []
    },
    {
      "cell_type": "code",
      "source": [
        "print(tokenizer.model_max_length)"
      ],
      "metadata": {
        "id": "VB_NaxYwQ7Dc"
      },
      "execution_count": null,
      "outputs": []
    },
    {
      "cell_type": "code",
      "source": [
        "import torch\n",
        "from transformers import AutoModelForCausalLM\n",
        "from peft import LoraConfig, get_peft_model\n",
        "\n",
        "model = AutoModelForCausalLM.from_pretrained(\n",
        "    MODEL_NAME,\n",
        "    load_in_4bit=True,\n",
        "    device_map=\"auto\"\n",
        ")\n",
        "\n",
        "lora_config = LoraConfig(\n",
        "    r=16, lora_alpha=32, lora_dropout=0.05, bias=\"none\",\n",
        "    target_modules=[\"q_proj\", \"v_proj\"]\n",
        ")\n",
        "\n",
        "model = get_peft_model(model, lora_config)\n",
        "\n",
        "model.print_trainable_parameters()\n"
      ],
      "metadata": {
        "id": "x_910c51Q7BM"
      },
      "execution_count": null,
      "outputs": []
    },
    {
      "cell_type": "code",
      "source": [
        "training_args = TrainingArguments(\n",
        "    output_dir=\"./fine_tuned_model\",\n",
        "    per_device_train_batch_size=2,\n",
        "    gradient_accumulation_steps=8,\n",
        "    num_train_epochs=1,\n",
        "    save_strategy=\"no\",\n",
        "    logging_dir=\"./logs\",\n",
        "    logging_steps=10,\n",
        "    report_to=\"none\",\n",
        "    fp16=True\n",
        ")\n"
      ],
      "metadata": {
        "id": "Z2JU71BSQ69O"
      },
      "execution_count": null,
      "outputs": []
    },
    {
      "cell_type": "code",
      "source": [
        "class CustomTrainer(Trainer):\n",
        "    def compute_loss(self, model, inputs, return_outputs=False, num_items_in_batch=None):\n",
        "        \"\"\"\n",
        "        Custom loss computation to incorporate the training logic from `training_step`.\n",
        "        \"\"\"\n",
        "\n",
        "        input_ids = inputs.get(\"input_ids\")\n",
        "        attention_mask = inputs.get(\"attention_mask\")\n",
        "\n",
        "        input_ids = input_ids.to(model.device)\n",
        "        attention_mask = attention_mask.to(model.device)\n",
        "\n",
        "        outputs = model(input_ids=input_ids, attention_mask=attention_mask)\n",
        "        logits = outputs.logits\n",
        "\n",
        "        shift_logits = logits[..., :-1, :].contiguous()\n",
        "        shift_labels = input_ids[..., 1:].contiguous()\n",
        "\n",
        "        loss_fn = torch.nn.CrossEntropyLoss()\n",
        "        loss = loss_fn(shift_logits.view(-1, shift_logits.size(-1)), shift_labels.view(-1))\n",
        "\n",
        "        return (loss, outputs) if return_outputs else loss\n",
        "\n",
        "trainer = CustomTrainer(\n",
        "    model=model,\n",
        "    args=training_args,\n",
        "    train_dataset=tokenized_dataset,\n",
        ")"
      ],
      "metadata": {
        "id": "iaBfo57oQ6zt"
      },
      "execution_count": null,
      "outputs": []
    },
    {
      "cell_type": "code",
      "source": [
        "trainer.train()"
      ],
      "metadata": {
        "id": "zAOani1EQ6vx"
      },
      "execution_count": null,
      "outputs": []
    },
    {
      "cell_type": "code",
      "source": [
        "model.save_pretrained(\"./fine_tuned_lora\")\n",
        "\n",
        "tokenizer.save_pretrained(\"./fine_tuned_lora\")\n",
        "\n",
        "print(\"LoRA adapters saved successfully!\")\n"
      ],
      "metadata": {
        "id": "O8NYB9r-Q6tm"
      },
      "execution_count": null,
      "outputs": []
    },
    {
      "cell_type": "code",
      "source": [
        "from peft import PeftModel\n",
        "\n",
        "model = AutoModelForCausalLM.from_pretrained(\n",
        "    MODEL_NAME,\n",
        "    load_in_4bit=True,\n",
        "    device_map=\"cuda:0\",\n",
        ")\n",
        "\n",
        "model = PeftModel.from_pretrained(model, \"./fine_tuned_lora\", device_map=\"cuda:0\") # specify device_map here as well\n",
        "model = model.merge_and_unload()\n",
        "\n",
        "tokenizer = AutoTokenizer.from_pretrained(\"./fine_tuned_lora\")\n",
        "\n",
        "print(\"Fine-tuned model with LoRA adapters loaded successfully!\")"
      ],
      "metadata": {
        "id": "rmsaov23Q6rA"
      },
      "execution_count": null,
      "outputs": []
    },
    {
      "cell_type": "code",
      "execution_count": null,
      "metadata": {
        "id": "F0CfsL8fQ4FU"
      },
      "outputs": [],
      "source": [
        "def generate_response(prompt):\n",
        "    inputs = tokenizer(prompt, return_tensors=\"pt\").to(\"cuda\")\n",
        "    with torch.no_grad():  # Reduce memory usage\n",
        "        output = model.generate(**inputs, max_length=300)\n",
        "    return tokenizer.decode(output[0].cpu(), skip_special_tokens=True)\n",
        "\n",
        "# Test response generation\n",
        "print(generate_response(\"Symptoms of headache ? and solution\"))\n"
      ]
    }
  ]
}