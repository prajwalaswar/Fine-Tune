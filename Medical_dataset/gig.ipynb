{
 "cells": [
  {
   "cell_type": "code",
   "execution_count": null,
   "metadata": {
    "vscode": {
     "languageId": "plaintext"
    }
   },
   "outputs": [],
   "source": [
    "from google.colab import drive\n",
    "drive.mount('/content/drive')"
   ]
  },
  {
   "cell_type": "code",
   "execution_count": null,
   "metadata": {
    "vscode": {
     "languageId": "plaintext"
    }
   },
   "outputs": [],
   "source": [
    "!pip install -q datasets transformers peft bitsandbytes accelerate wandb"
   ]
  },
  {
   "cell_type": "code",
   "execution_count": null,
   "metadata": {
    "vscode": {
     "languageId": "plaintext"
    }
   },
   "outputs": [],
   "source": [
    "import torch\n",
    "import wandb\n",
    "import os\n",
    "import json\n",
    "from datasets import load_dataset\n",
    "from transformers import AutoTokenizer, AutoModelForCausalLM, TrainingArguments, Trainer, BitsAndBytesConfig\n",
    "from peft import LoraConfig, TaskType, get_peft_model"
   ]
  },
  {
   "cell_type": "code",
   "execution_count": null,
   "metadata": {
    "vscode": {
     "languageId": "plaintext"
    }
   },
   "outputs": [],
   "source": [
    "os.environ[\"HF_TOKEN\"] = \"\""
   ]
  },
  {
   "cell_type": "code",
   "execution_count": null,
   "metadata": {
    "vscode": {
     "languageId": "plaintext"
    }
   },
   "outputs": [],
   "source": [
    "wandb.init(\n",
    "    project=\"DeepSeek-Finetuning\",\n",
    "    config={\n",
    "        \"learning_rate\": 2e-5,\n",
    "        \"architecture\": \"DeepSeek-R1-Distill-Qwen-1.5B\",\n",
    "        \"dataset\": \"niche_dataset.jsonl\",\n",
    "        \"epochs\": 3,\n",
    "    }\n",
    ")"
   ]
  },
  {
   "cell_type": "code",
   "execution_count": null,
   "metadata": {
    "vscode": {
     "languageId": "plaintext"
    }
   },
   "outputs": [],
   "source": [
    "model_name = \"deepseek-ai/DeepSeek-R1-Distill-Qwen-1.5B\""
   ]
  },
  {
   "cell_type": "code",
   "execution_count": null,
   "metadata": {
    "vscode": {
     "languageId": "plaintext"
    }
   },
   "outputs": [],
   "source": [
    "quantization_config = BitsAndBytesConfig(load_in_4bit=True)"
   ]
  },
  {
   "cell_type": "code",
   "execution_count": null,
   "metadata": {
    "vscode": {
     "languageId": "plaintext"
    }
   },
   "outputs": [],
   "source": [
    "# ✅ STEP 8: Load Tokenizer & Model\n",
    "tokenizer = AutoTokenizer.from_pretrained(model_name, token=os.getenv(\"HF_TOKEN\"))\n",
    "model = AutoModelForCausalLM.from_pretrained(\n",
    "    model_name, \n",
    "    quantization_config=quantization_config, \n",
    "    device_map=\"auto\",\n",
    "    token=os.getenv(\"HF_TOKEN\")\n",
    ")"
   ]
  },
  {
   "cell_type": "code",
   "execution_count": null,
   "metadata": {
    "vscode": {
     "languageId": "plaintext"
    }
   },
   "outputs": [],
   "source": [
    "# ✅ STEP 9: Apply LoRA for Efficient Fine-Tuning\n",
    "lora_config = LoraConfig(\n",
    "    r=8, \n",
    "    lora_alpha=16, \n",
    "    lora_dropout=0.05, \n",
    "    task_type=TaskType.CAUSAL_LM\n",
    ")"
   ]
  },
  {
   "cell_type": "code",
   "execution_count": null,
   "metadata": {
    "vscode": {
     "languageId": "plaintext"
    }
   },
   "outputs": [],
   "source": [
    "# Wrap Model with PEFT for LoRA Fine-Tuning\n",
    "model = get_peft_model(model, lora_config)\n",
    "model.print_trainable_parameters()"
   ]
  },
  {
   "cell_type": "code",
   "execution_count": null,
   "metadata": {
    "vscode": {
     "languageId": "plaintext"
    }
   },
   "outputs": [],
   "source": [
    "dataset_path = \"/content/medical_dataset.jsonl\"\n",
    "dataset_samples = [\n",
    "    {\n",
    "        \"prompt\": \"Question 1: What are the early symptoms of diabetes?\",\n",
    "        \"completion\": \"Answer 1: Early symptoms include frequent urination, increased thirst, fatigue, blurred vision, and unexplained weight loss.\"\n",
    "    },\n",
    "    {\n",
    "        \"prompt\": \"Question 2: How does high blood pressure affect the body?\",\n",
    "        \"completion\": \"Answer 2: High blood pressure can lead to heart disease, kidney damage, stroke, and vision problems if left untreated.\"\n",
    "    },\n",
    "    {\n",
    "        \"prompt\": \"Question 3: What is the recommended diet for heart disease patients?\",\n",
    "        \"completion\": \"Answer 3: A heart-healthy diet includes fruits, vegetables, whole grains, lean proteins, and reduced salt and saturated fat intake.\"\n",
    "    },\n",
    "    {\n",
    "        \"prompt\": \"Question 4: How can you naturally boost your immune system?\",\n",
    "        \"completion\": \"Answer 4: Maintain a balanced diet, exercise regularly, get enough sleep, stay hydrated, and manage stress effectively.\"\n",
    "    },\n",
    "    {\n",
    "        \"prompt\": \"Question 5: What are the common symptoms of iron deficiency anemia?\",\n",
    "        \"completion\": \"Answer 5: Symptoms include fatigue, pale skin, dizziness, shortness of breath, and brittle nails.\"\n",
    "    },\n",
    "    {\n",
    "        \"prompt\": \"Question 6: What is the role of insulin in the human body?\",\n",
    "        \"completion\": \"Answer 6: Insulin helps regulate blood sugar levels by facilitating glucose uptake into cells for energy production.\"\n",
    "    },\n",
    "    {\n",
    "        \"prompt\": \"Question 7: How can you manage stress effectively?\",\n",
    "        \"completion\": \"Answer 7: Practice mindfulness, deep breathing, regular exercise, and ensure proper rest to reduce stress levels.\"\n",
    "    },\n",
    "    {\n",
    "        \"prompt\": \"Question 8: What are the symptoms of a stroke?\",\n",
    "        \"completion\": \"Answer 8: Symptoms include sudden numbness or weakness in the face, arms, or legs, confusion, trouble speaking, and severe headache.\"\n",
    "    },\n",
    "    {\n",
    "        \"prompt\": \"Question 9: What is the difference between bacterial and viral infections?\",\n",
    "        \"completion\": \"Answer 9: Bacterial infections are caused by bacteria and treated with antibiotics, while viral infections are caused by viruses and usually resolve on their own or require antiviral medications.\"\n",
    "    },\n",
    "    {\n",
    "        \"prompt\": \"Question 10: How does dehydration affect the body?\",\n",
    "        \"completion\": \"Answer 10: Dehydration can cause dizziness, headaches, dry skin, confusion, and reduced kidney function.\"\n",
    "    },\n",
    "    {\n",
    "        \"prompt\": \"Question 11: What are the risk factors for developing osteoporosis?\",\n",
    "        \"completion\": \"Answer 11: Risk factors include aging, calcium deficiency, sedentary lifestyle, smoking, and a family history of osteoporosis.\"\n",
    "    },\n",
    "    {\n",
    "        \"prompt\": \"Question 12: What are the benefits of regular exercise for mental health?\",\n",
    "        \"completion\": \"Answer 12: Regular exercise reduces stress, anxiety, and depression while improving mood and cognitive function.\"\n",
    "    },\n",
    "    {\n",
    "        \"prompt\": \"Question 13: How does smoking impact lung health?\",\n",
    "        \"completion\": \"Answer 13: Smoking damages lung tissue, reduces oxygen intake, increases the risk of lung cancer, and contributes to chronic obstructive pulmonary disease (COPD).\"\n",
    "    },\n",
    "    {\n",
    "        \"prompt\": \"Question 14: What are the main causes of liver disease?\",\n",
    "        \"completion\": \"Answer 14: Causes include excessive alcohol consumption, viral hepatitis, obesity, and certain medications or toxins.\"\n",
    "    },\n",
    "    {\n",
    "        \"prompt\": \"Question 15: How can you lower your cholesterol levels naturally?\",\n",
    "        \"completion\": \"Answer 15: Eat a high-fiber diet, exercise regularly, reduce saturated fat intake, and maintain a healthy weight.\"\n",
    "    },\n",
    "    {\n",
    "        \"prompt\": \"Question 16: What are the symptoms of a heart attack?\",\n",
    "        \"completion\": \"Answer 16: Symptoms include chest pain, shortness of breath, nausea, cold sweats, and pain in the arms or jaw.\"\n",
    "    },\n",
    "    {\n",
    "        \"prompt\": \"Question 17: What is the role of hydration in maintaining kidney health?\",\n",
    "        \"completion\": \"Answer 17: Proper hydration helps flush out toxins, prevent kidney stones, and support overall kidney function.\"\n",
    "    },\n",
    "    {\n",
    "        \"prompt\": \"Question 18: What are the long-term complications of untreated diabetes?\",\n",
    "        \"completion\": \"Answer 18: Complications include nerve damage, kidney failure, vision loss, heart disease, and poor wound healing.\"\n",
    "    },\n",
    "    {\n",
    "        \"prompt\": \"Question 19: What foods should be avoided for individuals with acid reflux?\",\n",
    "        \"completion\": \"Answer 19: Spicy foods, caffeine, carbonated drinks, citrus fruits, and fried foods can worsen acid reflux.\"\n",
    "    },\n",
    "    {\n",
    "        \"prompt\": \"Question 20: How does obesity affect overall health?\",\n",
    "        \"completion\": \"Answer 20: Obesity increases the risk of diabetes, heart disease, high blood pressure, joint problems, and sleep apnea.\"\n",
    "    }\n",
    "]\n"
   ]
  },
  {
   "cell_type": "code",
   "execution_count": null,
   "metadata": {
    "vscode": {
     "languageId": "plaintext"
    }
   },
   "outputs": [],
   "source": [
    "# ✅ Save Dataset as JSONL File\n",
    "with open(dataset_path, \"w\", encoding=\"utf-8\") as f:\n",
    "    for sample in dataset_samples:\n",
    "        json.dump(sample, f, ensure_ascii=False)\n",
    "        f.write(\"\\n\")\n",
    "\n",
    "print(f\"✅ Dataset saved at: {dataset_path}\")"
   ]
  },
  {
   "cell_type": "code",
   "execution_count": null,
   "metadata": {
    "vscode": {
     "languageId": "plaintext"
    }
   },
   "outputs": [],
   "source": [
    "\n",
    "# ✅ STEP 11: Load Your Dataset in Google Colab\n",
    "dataset = load_dataset(\"json\", data_files={\"train\": dataset_path}, split=\"train\")"
   ]
  },
  {
   "cell_type": "code",
   "execution_count": null,
   "metadata": {
    "vscode": {
     "languageId": "plaintext"
    }
   },
   "outputs": [],
   "source": [
    "# ✅ STEP 12: Split Dataset into Train and Eval (80-20 Split)\n",
    "train_test_split = dataset.train_test_split(test_size=0.2)\n",
    "train_dataset = train_test_split[\"train\"]\n",
    "eval_dataset = train_test_split[\"test\"]"
   ]
  },
  {
   "cell_type": "code",
   "execution_count": null,
   "metadata": {
    "vscode": {
     "languageId": "plaintext"
    }
   },
   "outputs": [],
   "source": [
    "# ✅ STEP 13: Tokenization Function\n",
    "def tokenize_function(examples):\n",
    "    combined_texts = [f\"{prompt}\\n{completion}\" for prompt, completion in zip(examples[\"prompt\"], examples[\"completion\"])]\n",
    "    tokenized = tokenizer(combined_texts, truncation=True, max_length=512, padding=\"max_length\")\n",
    "    tokenized[\"labels\"] = tokenized[\"input_ids\"].copy()\n",
    "    return tokenized"
   ]
  },
  {
   "cell_type": "code",
   "execution_count": null,
   "metadata": {
    "vscode": {
     "languageId": "plaintext"
    }
   },
   "outputs": [],
   "source": [
    "# ✅ Apply Tokenization\n",
    "tokenized_train_dataset = train_dataset.map(tokenize_function, batched=True)\n",
    "tokenized_eval_dataset = eval_dataset.map(tokenize_function, batched=True)"
   ]
  },
  {
   "cell_type": "code",
   "execution_count": null,
   "metadata": {
    "vscode": {
     "languageId": "plaintext"
    }
   },
   "outputs": [],
   "source": [
    "# ✅ STEP 14: Define Optimized Training Arguments\n",
    "training_args = TrainingArguments(\n",
    "    output_dir=\"/content/drive/MyDrive/deepseek_finetuned\",  # Save to Google Drive\n",
    "    num_train_epochs=3,\n",
    "    per_device_train_batch_size=1,\n",
    "    gradient_accumulation_steps=4,\n",
    "    fp16=True,\n",
    "    logging_steps=20,\n",
    "    save_steps=500,\n",
    "    evaluation_strategy=\"steps\",\n",
    "    eval_steps=50,\n",
    "    learning_rate=2e-5,\n",
    "    logging_dir=\"./logs\",\n",
    "    report_to=\"wandb\",\n",
    "    run_name=\"DeepSeek_FineTuning_Experiment\",\n",
    ")"
   ]
  },
  {
   "cell_type": "code",
   "execution_count": null,
   "metadata": {
    "vscode": {
     "languageId": "plaintext"
    }
   },
   "outputs": [],
   "source": [
    "# ✅ STEP 15: Initialize Trainer\n",
    "trainer = Trainer(\n",
    "    model=model,\n",
    "    args=training_args,\n",
    "    train_dataset=tokenized_train_dataset,\n",
    "    eval_dataset=tokenized_eval_dataset,\n",
    ")"
   ]
  },
  {
   "cell_type": "code",
   "execution_count": null,
   "metadata": {
    "vscode": {
     "languageId": "plaintext"
    }
   },
   "outputs": [],
   "source": [
    "# ✅ STEP 16: Start Fine-Tuning\n",
    "trainer.train()"
   ]
  },
  {
   "cell_type": "code",
   "execution_count": null,
   "metadata": {
    "vscode": {
     "languageId": "plaintext"
    }
   },
   "outputs": [],
   "source": [
    "# ✅ STEP 17: Save the Fine-Tuned Model in Google Drive\n",
    "model_path = \"/content/drive/MyDrive/deepseek_finetuned\"\n",
    "trainer.save_model(model_path)\n",
    "print(f\"✅ Fine-tuned model saved to: {model_path}\")"
   ]
  },
  {
   "cell_type": "code",
   "execution_count": null,
   "metadata": {
    "vscode": {
     "languageId": "plaintext"
    }
   },
   "outputs": [],
   "source": [
    "from transformers import pipeline, AutoConfig\n",
    "\n",
    "# ✅ Load Fine-Tuned Model from Google Drive\n",
    "model_path = \"/content/drive/MyDrive/deepseek_finetuned\"\n",
    "model = AutoModelForCausalLM.from_pretrained(model_path)\n",
    "\n",
    "# ✅ Load the tokenizer using the original model name\n",
    "tokenizer = AutoTokenizer.from_pretrained(\"deepseek-ai/deepseek-coder-1.3b-base\")\n",
    "\n",
    "# ✅ Create a text generation pipeline\n",
    "generator = pipeline(\"text-generation\", model=model, tokenizer=tokenizer)\n",
    "\n",
    "# ✅ Ask a Question (Change the prompt as needed)\n",
    "question = \"What is the first step in assessing a vintage camera's condition?\"\n",
    "response = generator(question, max_length=100, do_sample=True, temperature=0.7)\n",
    "\n",
    "# ✅ Print Response\n",
    "print(\"💬 Model Response:\", response[0][\"generated_text\"])"
   ]
  }
 ],
 "metadata": {
  "language_info": {
   "name": "python"
  }
 },
 "nbformat": 4,
 "nbformat_minor": 2
}
